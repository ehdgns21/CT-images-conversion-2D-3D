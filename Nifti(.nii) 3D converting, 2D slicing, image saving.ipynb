{
 "cells": [
  {
   "cell_type": "code",
   "execution_count": 55,
   "metadata": {},
   "outputs": [],
   "source": [
    "import pydicom\n",
    "import nibabel as nib\n",
    "import string\n",
    "import gzip\n",
    "import matplotlib.pyplot as plt\n",
    "from PIL import Image\n",
    "from glob import glob\n",
    "from scipy import ndimage\n",
    "import sys\n",
    "import cv2"
   ]
  },
  {
   "cell_type": "code",
   "execution_count": 65,
   "metadata": {},
   "outputs": [],
   "source": [
    "path = 'AbdominalCT/_102029__0902083116/*.dcm'\n",
    "path_nii = 'AbdominalCT/_102029__0902083116/24883815.nii.gz'\n",
    "path_out = 'AbdominalCT/_102029__0902083116/mask/'"
   ]
  },
  {
   "cell_type": "code",
   "execution_count": 45,
   "metadata": {},
   "outputs": [
    {
     "data": {
      "text/plain": [
       "(512, 512, 142)"
      ]
     },
     "execution_count": 45,
     "metadata": {},
     "output_type": "execute_result"
    }
   ],
   "source": [
    "# NIFTI(.nii)파일 로드(1)\n",
    "nii_file = nib.load(path1)\n",
    "nii_arr = nii_file.get_fdata()\n",
    "nii_arr.shape"
   ]
  },
  {
   "cell_type": "code",
   "execution_count": 90,
   "metadata": {
    "scrolled": false
   },
   "outputs": [
    {
     "name": "stdout",
     "output_type": "stream",
     "text": [
      "shape: (512, 142)\n",
      "ndim: 2\n"
     ]
    }
   ],
   "source": [
    "# 3D arr를 2D arr로 indexing 및 slicing\n",
    "nii_arr_1 = nii_arr[340,:,:]\n",
    "\n",
    "# 2D 확인\n",
    "print(\"shape:\",nii_arr_1.shape)\n",
    "print(\"ndim:\",nii_arr_1.ndim)"
   ]
  },
  {
   "cell_type": "code",
   "execution_count": 111,
   "metadata": {},
   "outputs": [
    {
     "data": {
      "text/plain": [
       "<matplotlib.image.AxesImage at 0x1da02081bc8>"
      ]
     },
     "execution_count": 111,
     "metadata": {},
     "output_type": "execute_result"
    },
    {
     "data": {
      "image/png": "[encoded data removed]",
      "text/plain": [
       "<Figure size 432x288 with 1 Axes>"
      ]
     },
     "metadata": {
      "needs_background": "light"
     },
     "output_type": "display_data"
    }
   ],
   "source": [
    "# nii 원본 출력\n",
    "plt.imshow(nii_arr_1,cmap='gray')"
   ]
  },
  {
   "cell_type": "code",
   "execution_count": 156,
   "metadata": {},
   "outputs": [
    {
     "data": {
      "text/plain": [
       "<matplotlib.image.AxesImage at 0x1da2132e888>"
      ]
     },
     "execution_count": 156,
     "metadata": {},
     "output_type": "execute_result"
    },
    {
     "data": {
      "image/png": "[encoded data removed]",
      "text/plain": [
       "<Figure size 720x720 with 1 Axes>"
      ]
     },
     "metadata": {
      "needs_background": "light"
     },
     "output_type": "display_data"
    }
   ],
   "source": [
    "# nii 회전, 좌우변경, 종횡비 재설정\n",
    "rotated_img = ndimage.rotate(nii_arr_1,90) #img 90 degree rotation\n",
    "#img_mirror = cv2.flip(rotated_img, 0) #img mirror\n",
    "\n",
    "nii_new = cv2.resize(rotated_img, (0, 0), fx=0.15, fy=0.85) # 가로,세로 리사이즈\n",
    "plt.rcParams[\"figure.figsize\"] = (10,10)\n",
    "plt.imshow(nii_new, cmap='gray')"
   ]
  },
  {
   "cell_type": "code",
   "execution_count": null,
   "metadata": {},
   "outputs": [],
   "source": []
  },
  {
   "cell_type": "code",
   "execution_count": 161,
   "metadata": {},
   "outputs": [
    {
     "name": "stdout",
     "output_type": "stream",
     "text": [
      "glob: -f\n",
      "loading: AbdominalCT/_102029__0902083116\\ser002img00001.dcm\n",
      "loading: AbdominalCT/_102029__0902083116\\ser002img00002.dcm\n",
      "loading: AbdominalCT/_102029__0902083116\\ser002img00003.dcm\n",
      "loading: AbdominalCT/_102029__0902083116\\ser002img00004.dcm\n",
      "loading: AbdominalCT/_102029__0902083116\\ser002img00005.dcm\n",
      "loading: AbdominalCT/_102029__0902083116\\ser002img00006.dcm\n",
      "loading: AbdominalCT/_102029__0902083116\\ser002img00007.dcm\n",
      "loading: AbdominalCT/_102029__0902083116\\ser002img00008.dcm\n",
      "loading: AbdominalCT/_102029__0902083116\\ser002img00009.dcm\n",
      "loading: AbdominalCT/_102029__0902083116\\ser002img00010.dcm\n",
      "loading: AbdominalCT/_102029__0902083116\\ser002img00011.dcm\n",
      "loading: AbdominalCT/_102029__0902083116\\ser002img00012.dcm\n",
      "loading: AbdominalCT/_102029__0902083116\\ser002img00013.dcm\n",
      "loading: AbdominalCT/_102029__0902083116\\ser002img00014.dcm\n",
      "loading: AbdominalCT/_102029__0902083116\\ser002img00015.dcm\n",
      "loading: AbdominalCT/_102029__0902083116\\ser002img00016.dcm\n",
      "loading: AbdominalCT/_102029__0902083116\\ser002img00017.dcm\n",
      "loading: AbdominalCT/_102029__0902083116\\ser002img00018.dcm\n",
      "loading: AbdominalCT/_102029__0902083116\\ser002img00019.dcm\n",
      "loading: AbdominalCT/_102029__0902083116\\ser002img00020.dcm\n",
      "loading: AbdominalCT/_102029__0902083116\\ser002img00021.dcm\n",
      "loading: AbdominalCT/_102029__0902083116\\ser002img00022.dcm\n",
      "loading: AbdominalCT/_102029__0902083116\\ser002img00023.dcm\n",
      "loading: AbdominalCT/_102029__0902083116\\ser002img00024.dcm\n",
      "loading: AbdominalCT/_102029__0902083116\\ser002img00025.dcm\n",
      "loading: AbdominalCT/_102029__0902083116\\ser002img00026.dcm\n",
      "loading: AbdominalCT/_102029__0902083116\\ser002img00027.dcm\n",
      "loading: AbdominalCT/_102029__0902083116\\ser002img00028.dcm\n",
      "loading: AbdominalCT/_102029__0902083116\\ser002img00029.dcm\n",
      "loading: AbdominalCT/_102029__0902083116\\ser002img00030.dcm\n",
      "loading: AbdominalCT/_102029__0902083116\\ser002img00031.dcm\n",
      "loading: AbdominalCT/_102029__0902083116\\ser002img00032.dcm\n",
      "loading: AbdominalCT/_102029__0902083116\\ser002img00033.dcm\n",
      "loading: AbdominalCT/_102029__0902083116\\ser002img00034.dcm\n",
      "loading: AbdominalCT/_102029__0902083116\\ser002img00035.dcm\n",
      "loading: AbdominalCT/_102029__0902083116\\ser002img00036.dcm\n",
      "loading: AbdominalCT/_102029__0902083116\\ser002img00037.dcm\n",
      "loading: AbdominalCT/_102029__0902083116\\ser002img00038.dcm\n",
      "loading: AbdominalCT/_102029__0902083116\\ser002img00039.dcm\n",
      "loading: AbdominalCT/_102029__0902083116\\ser002img00040.dcm\n",
      "loading: AbdominalCT/_102029__0902083116\\ser002img00041.dcm\n",
      "loading: AbdominalCT/_102029__0902083116\\ser002img00042.dcm\n",
      "loading: AbdominalCT/_102029__0902083116\\ser002img00043.dcm\n",
      "loading: AbdominalCT/_102029__0902083116\\ser002img00044.dcm\n",
      "loading: AbdominalCT/_102029__0902083116\\ser002img00045.dcm\n",
      "loading: AbdominalCT/_102029__0902083116\\ser002img00046.dcm\n",
      "loading: AbdominalCT/_102029__0902083116\\ser002img00047.dcm\n",
      "loading: AbdominalCT/_102029__0902083116\\ser002img00048.dcm\n",
      "loading: AbdominalCT/_102029__0902083116\\ser002img00049.dcm\n",
      "loading: AbdominalCT/_102029__0902083116\\ser002img00050.dcm\n",
      "loading: AbdominalCT/_102029__0902083116\\ser002img00051.dcm\n",
      "loading: AbdominalCT/_102029__0902083116\\ser002img00052.dcm\n",
      "loading: AbdominalCT/_102029__0902083116\\ser002img00053.dcm\n",
      "loading: AbdominalCT/_102029__0902083116\\ser002img00054.dcm\n",
      "loading: AbdominalCT/_102029__0902083116\\ser002img00055.dcm\n",
      "loading: AbdominalCT/_102029__0902083116\\ser002img00056.dcm\n",
      "loading: AbdominalCT/_102029__0902083116\\ser002img00057.dcm\n",
      "loading: AbdominalCT/_102029__0902083116\\ser002img00058.dcm\n",
      "loading: AbdominalCT/_102029__0902083116\\ser002img00059.dcm\n",
      "loading: AbdominalCT/_102029__0902083116\\ser002img00060.dcm\n",
      "loading: AbdominalCT/_102029__0902083116\\ser002img00061.dcm\n",
      "loading: AbdominalCT/_102029__0902083116\\ser002img00062.dcm\n",
      "loading: AbdominalCT/_102029__0902083116\\ser002img00063.dcm\n",
      "loading: AbdominalCT/_102029__0902083116\\ser002img00064.dcm\n",
      "loading: AbdominalCT/_102029__0902083116\\ser002img00065.dcm\n",
      "loading: AbdominalCT/_102029__0902083116\\ser002img00066.dcm\n",
      "loading: AbdominalCT/_102029__0902083116\\ser002img00067.dcm\n",
      "loading: AbdominalCT/_102029__0902083116\\ser002img00068.dcm\n",
      "loading: AbdominalCT/_102029__0902083116\\ser002img00069.dcm\n",
      "loading: AbdominalCT/_102029__0902083116\\ser002img00070.dcm\n",
      "loading: AbdominalCT/_102029__0902083116\\ser002img00071.dcm\n",
      "loading: AbdominalCT/_102029__0902083116\\ser002img00072.dcm\n",
      "loading: AbdominalCT/_102029__0902083116\\ser002img00073.dcm\n",
      "loading: AbdominalCT/_102029__0902083116\\ser002img00074.dcm\n",
      "loading: AbdominalCT/_102029__0902083116\\ser002img00075.dcm\n",
      "loading: AbdominalCT/_102029__0902083116\\ser002img00076.dcm\n",
      "loading: AbdominalCT/_102029__0902083116\\ser002img00077.dcm\n",
      "loading: AbdominalCT/_102029__0902083116\\ser002img00078.dcm\n",
      "loading: AbdominalCT/_102029__0902083116\\ser002img00079.dcm\n",
      "loading: AbdominalCT/_102029__0902083116\\ser002img00080.dcm\n",
      "loading: AbdominalCT/_102029__0902083116\\ser002img00081.dcm\n",
      "loading: AbdominalCT/_102029__0902083116\\ser002img00082.dcm\n",
      "loading: AbdominalCT/_102029__0902083116\\ser002img00083.dcm\n",
      "loading: AbdominalCT/_102029__0902083116\\ser002img00084.dcm\n",
      "loading: AbdominalCT/_102029__0902083116\\ser002img00085.dcm\n",
      "loading: AbdominalCT/_102029__0902083116\\ser002img00086.dcm\n",
      "loading: AbdominalCT/_102029__0902083116\\ser002img00087.dcm\n",
      "loading: AbdominalCT/_102029__0902083116\\ser002img00088.dcm\n",
      "loading: AbdominalCT/_102029__0902083116\\ser002img00089.dcm\n",
      "loading: AbdominalCT/_102029__0902083116\\ser002img00090.dcm\n",
      "loading: AbdominalCT/_102029__0902083116\\ser002img00091.dcm\n",
      "loading: AbdominalCT/_102029__0902083116\\ser002img00092.dcm\n",
      "loading: AbdominalCT/_102029__0902083116\\ser002img00093.dcm\n",
      "loading: AbdominalCT/_102029__0902083116\\ser002img00094.dcm\n",
      "loading: AbdominalCT/_102029__0902083116\\ser002img00095.dcm\n",
      "loading: AbdominalCT/_102029__0902083116\\ser002img00096.dcm\n",
      "loading: AbdominalCT/_102029__0902083116\\ser002img00097.dcm\n",
      "loading: AbdominalCT/_102029__0902083116\\ser002img00098.dcm\n",
      "loading: AbdominalCT/_102029__0902083116\\ser002img00099.dcm\n",
      "loading: AbdominalCT/_102029__0902083116\\ser002img00100.dcm\n",
      "loading: AbdominalCT/_102029__0902083116\\ser002img00101.dcm\n",
      "loading: AbdominalCT/_102029__0902083116\\ser002img00102.dcm\n",
      "loading: AbdominalCT/_102029__0902083116\\ser002img00103.dcm\n",
      "loading: AbdominalCT/_102029__0902083116\\ser002img00104.dcm\n",
      "loading: AbdominalCT/_102029__0902083116\\ser002img00105.dcm\n",
      "loading: AbdominalCT/_102029__0902083116\\ser002img00106.dcm\n",
      "loading: AbdominalCT/_102029__0902083116\\ser002img00107.dcm\n",
      "loading: AbdominalCT/_102029__0902083116\\ser002img00108.dcm\n",
      "loading: AbdominalCT/_102029__0902083116\\ser002img00109.dcm\n",
      "loading: AbdominalCT/_102029__0902083116\\ser002img00110.dcm\n",
      "loading: AbdominalCT/_102029__0902083116\\ser002img00111.dcm\n",
      "loading: AbdominalCT/_102029__0902083116\\ser002img00112.dcm\n",
      "loading: AbdominalCT/_102029__0902083116\\ser002img00113.dcm\n",
      "loading: AbdominalCT/_102029__0902083116\\ser002img00114.dcm\n",
      "loading: AbdominalCT/_102029__0902083116\\ser002img00115.dcm\n",
      "loading: AbdominalCT/_102029__0902083116\\ser002img00116.dcm\n",
      "loading: AbdominalCT/_102029__0902083116\\ser002img00117.dcm\n",
      "loading: AbdominalCT/_102029__0902083116\\ser002img00118.dcm\n",
      "loading: AbdominalCT/_102029__0902083116\\ser002img00119.dcm\n",
      "loading: AbdominalCT/_102029__0902083116\\ser002img00120.dcm\n",
      "loading: AbdominalCT/_102029__0902083116\\ser002img00121.dcm\n",
      "loading: AbdominalCT/_102029__0902083116\\ser002img00122.dcm\n",
      "loading: AbdominalCT/_102029__0902083116\\ser002img00123.dcm\n",
      "loading: AbdominalCT/_102029__0902083116\\ser002img00124.dcm\n",
      "loading: AbdominalCT/_102029__0902083116\\ser002img00125.dcm\n",
      "loading: AbdominalCT/_102029__0902083116\\ser002img00126.dcm\n",
      "loading: AbdominalCT/_102029__0902083116\\ser002img00127.dcm\n",
      "loading: AbdominalCT/_102029__0902083116\\ser002img00128.dcm\n",
      "loading: AbdominalCT/_102029__0902083116\\ser002img00129.dcm\n",
      "loading: AbdominalCT/_102029__0902083116\\ser002img00130.dcm\n",
      "loading: AbdominalCT/_102029__0902083116\\ser002img00131.dcm\n",
      "loading: AbdominalCT/_102029__0902083116\\ser002img00132.dcm\n",
      "loading: AbdominalCT/_102029__0902083116\\ser002img00133.dcm\n",
      "loading: AbdominalCT/_102029__0902083116\\ser002img00134.dcm\n",
      "loading: AbdominalCT/_102029__0902083116\\ser002img00135.dcm\n",
      "loading: AbdominalCT/_102029__0902083116\\ser002img00136.dcm\n",
      "loading: AbdominalCT/_102029__0902083116\\ser002img00137.dcm\n",
      "loading: AbdominalCT/_102029__0902083116\\ser002img00138.dcm\n",
      "loading: AbdominalCT/_102029__0902083116\\ser002img00139.dcm\n",
      "loading: AbdominalCT/_102029__0902083116\\ser002img00140.dcm\n",
      "loading: AbdominalCT/_102029__0902083116\\ser002img00141.dcm\n",
      "loading: AbdominalCT/_102029__0902083116\\ser002img00142.dcm\n",
      "file count: 142\n"
     ]
    }
   ],
   "source": [
    "files = []\n",
    "nii_index = 0\n",
    "\n",
    "print('glob: {}'.format(sys.argv[1]))\n",
    "\n",
    "# Dicom filecount 세기\n",
    "for fname in glob(path, recursive=False):\n",
    "    print(\"loading: {}\".format(fname))\n",
    "    files.append(pydicom.dcmread(fname))\n",
    "    \n",
    "files_count = int(len(files))\n",
    "print(\"file count: {}\".format(files_count))"
   ]
  },
  {
   "cell_type": "code",
   "execution_count": 162,
   "metadata": {},
   "outputs": [
    {
     "name": "stdout",
     "output_type": "stream",
     "text": [
      "NiFTi index:  1\n",
      "NiFTi index:  2\n",
      "NiFTi index:  3\n",
      "NiFTi index:  4\n",
      "NiFTi index:  5\n",
      "NiFTi index:  6\n",
      "NiFTi index:  7\n",
      "NiFTi index:  8\n",
      "NiFTi index:  9\n",
      "NiFTi index:  10\n",
      "NiFTi index:  11\n",
      "NiFTi index:  12\n",
      "NiFTi index:  13\n",
      "NiFTi index:  14\n",
      "NiFTi index:  15\n",
      "NiFTi index:  16\n",
      "NiFTi index:  17\n",
      "NiFTi index:  18\n",
      "NiFTi index:  19\n",
      "NiFTi index:  20\n",
      "NiFTi index:  21\n",
      "NiFTi index:  22\n",
      "NiFTi index:  23\n",
      "NiFTi index:  24\n",
      "NiFTi index:  25\n",
      "NiFTi index:  26\n",
      "NiFTi index:  27\n",
      "NiFTi index:  28\n",
      "NiFTi index:  29\n",
      "NiFTi index:  30\n",
      "NiFTi index:  31\n",
      "NiFTi index:  32\n",
      "NiFTi index:  33\n",
      "NiFTi index:  34\n",
      "NiFTi index:  35\n",
      "NiFTi index:  36\n",
      "NiFTi index:  37\n",
      "NiFTi index:  38\n",
      "NiFTi index:  39\n",
      "NiFTi index:  40\n",
      "NiFTi index:  41\n",
      "NiFTi index:  42\n",
      "NiFTi index:  43\n",
      "NiFTi index:  44\n",
      "NiFTi index:  45\n",
      "NiFTi index:  46\n",
      "NiFTi index:  47\n",
      "NiFTi index:  48\n",
      "NiFTi index:  49\n",
      "NiFTi index:  50\n",
      "NiFTi index:  51\n",
      "NiFTi index:  52\n",
      "NiFTi index:  53\n",
      "NiFTi index:  54\n",
      "NiFTi index:  55\n",
      "NiFTi index:  56\n",
      "NiFTi index:  57\n",
      "NiFTi index:  58\n",
      "NiFTi index:  59\n",
      "NiFTi index:  60\n",
      "NiFTi index:  61\n",
      "NiFTi index:  62\n",
      "NiFTi index:  63\n",
      "NiFTi index:  64\n",
      "NiFTi index:  65\n",
      "NiFTi index:  66\n",
      "NiFTi index:  67\n",
      "NiFTi index:  68\n",
      "NiFTi index:  69\n",
      "NiFTi index:  70\n",
      "NiFTi index:  71\n",
      "NiFTi index:  72\n",
      "NiFTi index:  73\n",
      "NiFTi index:  74\n",
      "NiFTi index:  75\n",
      "NiFTi index:  76\n",
      "NiFTi index:  77\n",
      "NiFTi index:  78\n",
      "NiFTi index:  79\n",
      "NiFTi index:  80\n",
      "NiFTi index:  81\n",
      "NiFTi index:  82\n",
      "NiFTi index:  83\n",
      "NiFTi index:  84\n",
      "NiFTi index:  85\n",
      "NiFTi index:  86\n",
      "NiFTi index:  87\n",
      "NiFTi index:  88\n",
      "NiFTi index:  89\n",
      "NiFTi index:  90\n",
      "NiFTi index:  91\n",
      "NiFTi index:  92\n",
      "NiFTi index:  93\n",
      "NiFTi index:  94\n",
      "NiFTi index:  95\n",
      "NiFTi index:  96\n",
      "NiFTi index:  97\n",
      "NiFTi index:  98\n",
      "NiFTi index:  99\n",
      "NiFTi index:  100\n",
      "NiFTi index:  101\n",
      "NiFTi index:  102\n",
      "NiFTi index:  103\n",
      "NiFTi index:  104\n",
      "NiFTi index:  105\n",
      "NiFTi index:  106\n",
      "NiFTi index:  107\n",
      "NiFTi index:  108\n",
      "NiFTi index:  109\n",
      "NiFTi index:  110\n",
      "NiFTi index:  111\n",
      "NiFTi index:  112\n",
      "NiFTi index:  113\n",
      "NiFTi index:  114\n",
      "NiFTi index:  115\n",
      "NiFTi index:  116\n",
      "NiFTi index:  117\n",
      "NiFTi index:  118\n",
      "NiFTi index:  119\n",
      "NiFTi index:  120\n",
      "NiFTi index:  121\n",
      "NiFTi index:  122\n",
      "NiFTi index:  123\n",
      "NiFTi index:  124\n",
      "NiFTi index:  125\n",
      "NiFTi index:  126\n",
      "NiFTi index:  127\n",
      "NiFTi index:  128\n",
      "NiFTi index:  129\n",
      "NiFTi index:  130\n",
      "NiFTi index:  131\n",
      "NiFTi index:  132\n",
      "NiFTi index:  133\n",
      "NiFTi index:  134\n",
      "NiFTi index:  135\n",
      "NiFTi index:  136\n",
      "NiFTi index:  137\n",
      "NiFTi index:  138\n",
      "NiFTi index:  139\n",
      "NiFTi index:  140\n",
      "NiFTi index:  141\n",
      "NiFTi index:  142\n"
     ]
    }
   ],
   "source": [
    "# NifTi files color change and save the png files \n",
    "for index in range(files_count):\n",
    "    \n",
    "    rotated_img = ndimage.rotate(nii_arr[nii_index,:,:],90) #img 90 degree rotation\n",
    "    #img_mirror = cv2.flip(rotated_img, 0) #img mirror \n",
    "    plt.imsave(path_out+\"mask_nii%d.png\"%(nii_index), rotated_img, cmap='gray') # save as folder name\n",
    "\n",
    "    nii_index = nii_index + 1\n",
    "    print(\"NiFTi index: \", nii_index)"
   ]
  },
  {
   "cell_type": "code",
   "execution_count": null,
   "metadata": {},
   "outputs": [],
   "source": []
  },
  {
   "cell_type": "code",
   "execution_count": null,
   "metadata": {},
   "outputs": [],
   "source": []
  },
  {
   "cell_type": "code",
   "execution_count": null,
   "metadata": {},
   "outputs": [],
   "source": []
  }
 ],
 "metadata": {
  "kernelspec": {
   "display_name": "Python 3",
   "language": "python",
   "name": "python3"
  },
  "language_info": {
   "codemirror_mode": {
    "name": "ipython",
    "version": 3
   },
   "file_extension": ".py",
   "mimetype": "text/x-python",
   "name": "python",
   "nbconvert_exporter": "python",
   "pygments_lexer": "ipython3",
   "version": "3.7.6"
  }
 },
 "nbformat": 4,
 "nbformat_minor": 4
}
