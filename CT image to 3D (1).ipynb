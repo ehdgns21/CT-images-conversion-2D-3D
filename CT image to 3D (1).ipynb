{
 "cells": [
  {
   "cell_type": "code",
   "execution_count": 78,
   "metadata": {},
   "outputs": [],
   "source": [
    "import pydicom as dcm\n",
    "from pydicom.data import get_testdata_file"
   ]
  },
  {
   "cell_type": "code",
   "execution_count": 79,
   "metadata": {},
   "outputs": [
    {
     "data": {
      "text/plain": [
       "'2.1.1'"
      ]
     },
     "execution_count": 79,
     "metadata": {},
     "output_type": "execute_result"
    }
   ],
   "source": [
    "pydicom.__version__"
   ]
  },
  {
   "cell_type": "code",
   "execution_count": 104,
   "metadata": {},
   "outputs": [],
   "source": [
    "path = 'abdominalCT/Abdominal CT_102029__0821022805/ser003img00100.dcm'"
   ]
  },
  {
   "cell_type": "code",
   "execution_count": 105,
   "metadata": {},
   "outputs": [],
   "source": [
    "#path = get_testdata_file('test.dcm')"
   ]
  },
  {
   "cell_type": "code",
   "execution_count": 106,
   "metadata": {},
   "outputs": [],
   "source": [
    "img3=dcm.dcmread(path)"
   ]
  },
  {
   "cell_type": "code",
   "execution_count": 107,
   "metadata": {},
   "outputs": [
    {
     "data": {
      "text/plain": [
       "Dataset.file_meta -------------------------------\n",
       "(0002, 0000) File Meta Information Group Length  UL: 78\n",
       "(0002, 0010) Transfer Syntax UID                 UI: Explicit VR Big Endian\n",
       "(0002, 0012) Implementation Class UID            UI: 1.2.840.113619.6.201\n",
       "(0002, 0013) Implementation Version Name         SH: 'CENTRICITY_3.0'\n",
       "-------------------------------------------------\n",
       "(0008, 0000) Group Length                        UL: 984\n",
       "(0008, 0005) Specific Character Set              CS: ['ISO 2022 IR 100', 'ISO 2022 IR 149']\n",
       "(0008, 0008) Image Type                          CS: ['ORIGINAL', 'PRIMARY', 'AXIAL']\n",
       "(0008, 0012) Instance Creation Date              DA: '20090707'\n",
       "(0008, 0013) Instance Creation Time              TM: '092423'\n",
       "(0008, 0016) SOP Class UID                       UI: CT Image Storage\n",
       "(0008, 0018) SOP Instance UID                    UI: 1.2.840.113619.2.55.3.2495624292.901.1246879598.727.100\n",
       "(0008, 0020) Study Date                          DA: '20090707'\n",
       "(0008, 0021) Series Date                         DA: '20090707'\n",
       "(0008, 0022) Acquisition Date                    DA: '20090707'\n",
       "(0008, 0023) Content Date                        DA: '20090707'\n",
       "(0008, 0030) Study Time                          TM: '092016'\n",
       "(0008, 0031) Series Time                         TM: '092143'\n",
       "(0008, 0032) Acquisition Time                    TM: '092306'\n",
       "(0008, 0033) Content Time                        TM: '092423'\n",
       "(0008, 0050) Accession Number                    SH: 'I IM6'\n",
       "(0008, 0060) Modality                            CS: 'CT'\n",
       "(0008, 0070) Manufacturer                        LO: 'GE MEDICAL SYSTEMS'\n",
       "(0008, 0080) Institution Name                    LO: 'Samsung Medical Center'\n",
       "(0008, 0090) Referring Physician's Name          PN: 'PARK KEUN CHIL, M.D.'\n",
       "(0008, 1010) Station Name                        SH: 'sct7'\n",
       "(0008, 1030) Study Description                   LO: 'ABDOMEN + PELVIS CT, INITIAL STUDY'\n",
       "(0008, 1032)  Procedure Code Sequence  1 item(s) ---- \n",
       "   (0008, 0100) Code Value                          SH: 'RC31202'\n",
       "   (0008, 0102) Coding Scheme Designator            SH: 'GEIIS'\n",
       "   (0008, 0103) Coding Scheme Version               SH: '0'\n",
       "   (0008, 0104) Code Meaning                        LO: 'ABDOMEN + PELVIS CT, INITIAL STUDY'\n",
       "   ---------\n",
       "(0008, 103e) Series Description                  LO: 'POST-CONTRAST'\n",
       "(0008, 1060) Name of Physician(s) Reading Study  PN: ''\n",
       "(0008, 1070) Operators' Name                     PN: ''\n",
       "(0008, 1090) Manufacturer's Model Name           LO: 'LightSpeed VCT'\n",
       "(0008, 1110)  Referenced Study Sequence  1 item(s) ---- \n",
       "   (0008, 1150) Referenced SOP Class UID            UI: Detached Study Management SOP Class\n",
       "   (0008, 1155) Referenced SOP Instance UID         UI: 1.2.124.113532.192.148.106.61.20090707.82521.1096815\n",
       "   ---------\n",
       "(0008, 1120)  Referenced Patient Sequence  1 item(s) ---- \n",
       "   (0008, 1150) Referenced SOP Class UID            UI: Detached Patient Management SOP Class\n",
       "   (0008, 1155) Referenced SOP Instance UID         UI: 1.2.124.113532.192.148.106.61.20090622.143856.1059926\n",
       "   ---------\n",
       "(0008, 1140)  Referenced Image Sequence  1 item(s) ---- \n",
       "   (0008, 1150) Referenced SOP Class UID            UI: CT Image Storage\n",
       "   (0008, 1155) Referenced SOP Instance UID         UI: 1.2.840.113619.2.55.3.2495624292.901.1246879598.324.1\n",
       "   ---------\n",
       "(0009, 0000) Private Creator                     UL: 8450\n",
       "(0009, 0010) Private tag data                    LO: 'GEMS_IDEN_01'\n",
       "(0009, 0011) Private tag data                    LO: 'GEIIS'\n",
       "(0009, 1001) [Full fidelity]                     LO: 'CT_LIGHTSPEED'\n",
       "(0009, 1002) [Suite id]                          SH: 'SCT7'\n",
       "(0009, 1004) [Product id]                        SH: 'LightSpeed VCT'\n",
       "(0009, 1027) [Image actual date]                 SL: 1246958503\n",
       "(0009, 10e3) [Equipment UID]                     UI: ''\n",
       "(0009, 1110)  [GE IIS Thumbnail Sequence]  1 item(s) ---- \n",
       "   (0028, 0002) Samples per Pixel                   US: 1\n",
       "   (0028, 0004) Photometric Interpretation          CS: 'MONOCHROME2'\n",
       "   (0028, 0006) Planar Configuration                US: 0\n",
       "   (0028, 0010) Rows                                US: 128\n",
       "   (0028, 0011) Columns                             US: 128\n",
       "   (0028, 0100) Bits Allocated                      US: 16\n",
       "   (0028, 0101) Bits Stored                         US: 16\n",
       "   (0028, 0102) High Bit                            US: 15\n",
       "   (0028, 0103) Pixel Representation                US: 1\n",
       "   (0028, 0120) Pixel Padding Value                 SS: -2000\n",
       "   (0028, 1052) Rescale Intercept                   DS: \"-1024.0\"\n",
       "   (0028, 1053) Rescale Slope                       DS: \"1.0\"\n",
       "   (0029, 0010) Private Creator                     LO: 'GEIIS'\n",
       "   (0029, 1010) [Shift Count]                       UL: 4\n",
       "   (0029, 1012) [Offset]                            UL: 0\n",
       "   (0029, 1014) [Actual Frame Number]               UL: 0\n",
       "   (7fd1, 0010) Private Creator                     LO: 'GEIIS'\n",
       "   (7fd1, 1010) [GE IIS Compression ID]             UL: 26\n",
       "   (7fe0, 0010) Pixel Data                          OB: Array of 8088 elements\n",
       "   ---------\n",
       "(0009, 1112) [Unknown]                           IS: \"1\"\n",
       "(0010, 0000) Group Length                        UL: 214\n",
       "(0010, 0010) Patient's Name                      PN: 'YEON SIN HEUM=연신흠=연신흠'\n",
       "(0010, 0020) Patient ID                          LO: '23355098'\n",
       "(0010, 0021) Issuer of Patient ID                LO: '082S07:20061015:015516666:004504'\n",
       "(0010, 0030) Patient's Birth Date                DA: '19610802'\n",
       "(0010, 0040) Patient's Sex                       CS: 'M'\n",
       "(0010, 1010) Patient's Age                       AS: '047Y'\n",
       "(0010, 1040) Patient's Address                   LO: '425020 KYEONG KI  AHN SAN SI  DAN WON KOO  KO JAN DONG'\n",
       "(0010, 21b0) Additional Patient History          LT: ''\n",
       "(0018, 0000) Group Length                        UL: 410\n",
       "(0018, 0022) Scan Options                        CS: 'HELICAL MODE'\n",
       "(0018, 0050) Slice Thickness                     DS: \"5.0\"\n",
       "(0018, 0060) KVP                                 DS: \"120.0\"\n",
       "(0018, 0090) Data Collection Diameter            DS: \"500.0\"\n",
       "(0018, 1020) Software Versions                   LO: '07MW18.4'\n",
       "(0018, 1030) Protocol Name                       LO: '6.17 ABDOMEN(DMPR)'\n",
       "(0018, 1100) Reconstruction Diameter             DS: \"367.0\"\n",
       "(0018, 1110) Distance Source to Detector         DS: \"949.075012\"\n",
       "(0018, 1111) Distance Source to Patient          DS: \"541.0\"\n",
       "(0018, 1120) Gantry/Detector Tilt                DS: \"0.0\"\n",
       "(0018, 1130) Table Height                        DS: \"108.5\"\n",
       "(0018, 1140) Rotation Direction                  CS: 'CW'\n",
       "(0018, 1150) Exposure Time                       IS: \"600\"\n",
       "(0018, 1151) X-Ray Tube Current                  IS: \"298\"\n",
       "(0018, 1152) Exposure                            IS: \"22\"\n",
       "(0018, 1160) Filter Type                         SH: 'BODY FILTER'\n",
       "(0018, 1170) Generator Power                     IS: \"36000\"\n",
       "(0018, 1190) Focal Spot(s)                       DS: \"0.7\"\n",
       "(0018, 1210) Convolution Kernel                  SH: 'SOFT'\n",
       "(0018, 5100) Patient Position                    CS: 'FFS'\n",
       "(0018, 9305) Revolution Time                     FD: 0.6000000238418579\n",
       "(0018, 9306) Single Collimation Width            FD: 0.625\n",
       "(0018, 9307) Total Collimation Width             FD: 40.0\n",
       "(0018, 9309) Table Speed                         FD: 65.62499739229689\n",
       "(0018, 9310) Table Feed per Rotation             FD: 39.375\n",
       "(0018, 9311) Spiral Pitch Factor                 FD: 0.984375\n",
       "(0019, 0000) Private Creator                     UL: 296\n",
       "(0019, 0010) Private tag data                    LO: 'GEMS_ACQU_01'\n",
       "(0019, 1002) [Detector Channel]                  SL: 912\n",
       "(0019, 1003) [Cell number at Theta]              DS: \"389.75\"\n",
       "(0019, 1004) [Cell spacing]                      DS: \"1.0239\"\n",
       "(0019, 100f) [Horiz. Frame of ref.]              DS: \"1652.5\"\n",
       "(0019, 1011) [Series contrast]                   SS: 0\n",
       "(0019, 1018) [First scan ras]                    LO: 'S'\n",
       "(0019, 101a) [Last scan ras]                     LO: 'I'\n",
       "(0019, 1023) [Table Speed [mm/rotation]]         DS: \"39.375\"\n",
       "(0019, 1024) [Mid Scan Time [sec]]               DS: \"7.890244\"\n",
       "(0019, 1025) [Mid scan flag]                     SS: 1\n",
       "(0019, 1026) [Tube Azimuth [degree]]             SL: 354\n",
       "(0019, 1027) [Rotation Speed [msec]]             DS: \"0.6\"\n",
       "(0019, 102c) [Number of triggers]                SL: 13589\n",
       "(0019, 102e) [Angle of first view]               DS: \"0.0\"\n",
       "(0019, 102f) [Trigger frequency]                 DS: \"1640.0\"\n",
       "(0019, 1039) [SFOV Type]                         SS: 1024\n",
       "(0019, 1042) [Segment Number]                    SS: 0\n",
       "(0019, 1043) [Total Segments Required]           SS: 0\n",
       "(0019, 1047) [View compression factor]           SS: 1\n",
       "(0019, 1052) [Recon post proc. Flag]             SS: 1\n",
       "(0019, 106a) [Dependent on #views processed]     SS: 3\n",
       "(0020, 0000) Group Length                        UL: 358\n",
       "(0020, 000d) Study Instance UID                  UI: 1.2.840.113619.2.55.3.2495624292.901.1246879598.321\n",
       "(0020, 000e) Series Instance UID                 UI: 1.2.840.113619.2.55.3.2495624292.901.1246879598.325.3\n",
       "(0020, 0010) Study ID                            SH: '30057'\n",
       "(0020, 0011) Series Number                       IS: \"3\"\n",
       "(0020, 0012) Acquisition Number                  IS: \"1\"\n",
       "(0020, 0013) Instance Number                     IS: \"100\"\n",
       "(0020, 0032) Image Position (Patient)            DS: [-175.800, -183.500, -476.250]\n",
       "(0020, 0037) Image Orientation (Patient)         DS: [1.000000, 0.000000, 0.000000, 0.000000, 1.000000, 0.000000]\n",
       "(0020, 0052) Frame of Reference UID              UI: 1.2.840.113619.2.55.3.2495624292.901.1246879598.322.16525.5\n",
       "(0020, 1040) Position Reference Indicator        LO: 'XY'\n",
       "(0020, 1041) Slice Location                      DS: \"-476.25\"\n",
       "(0021, 0000) Private Creator                     UL: 84\n",
       "(0021, 0010) Private tag data                    LO: 'GEMS_RELA_01'\n",
       "(0021, 1003) [Series from which Prescribed]      SS: 2\n",
       "(0021, 1035) [Series from which prescribed]      SS: 1\n",
       "(0021, 1036) [Image from which prescribed]       SS: 1\n",
       "(0021, 1091) [Biopsy position]                   SS: 0\n",
       "(0021, 1092) [Biopsy T location]                 FL: 0.0\n",
       "(0021, 1093) [Biopsy ref location]               FL: 0.0\n",
       "(0023, 0000) Private Creator                     UL: 36\n",
       "(0023, 0010) Private tag data                    LO: 'GEMS_STDY_01'\n",
       "(0023, 1070) [Start time(secs) in first axial]   FD: 1246958586.598939\n",
       "(0027, 0000) Private Creator                     UL: 182\n",
       "(0027, 0010) Private tag data                    LO: 'GEMS_IMAG_01'\n",
       "(0027, 1010) [Scout Type]                        SS: 0\n",
       "(0027, 101c) [Vma mamp]                          SL: 0\n",
       "(0027, 101e) [Vma mod]                           SL: 0\n",
       "(0027, 101f) [Vma clip]                          SL: 150\n",
       "(0027, 1020) [Smart scan ON/OFF flag]            SS: 2\n",
       "(0027, 1035) [Plane Type]                        SS: 2\n",
       "(0027, 1042) [Center R coord of plane image]     FL: -7.699999809265137\n",
       "(0027, 1043) [Center A coord of plane image]     FL: 0.0\n",
       "(0027, 1044) [Center S coord of plane image]     FL: -476.25\n",
       "(0027, 1045) [Normal R coord]                    FL: 0.0\n",
       "(0027, 1046) [Normal A coord]                    FL: 0.0\n",
       "(0027, 1047) [Normal S coord]                    FL: -1.0\n",
       "(0027, 1050) [Scan Start Location]               FL: 0.0\n",
       "(0027, 1051) [Scan End Location]                 FL: 0.0\n",
       "(0028, 0000) Group Length                        UL: 182\n",
       "(0028, 0002) Samples per Pixel                   US: 1\n",
       "(0028, 0004) Photometric Interpretation          CS: 'MONOCHROME2'\n",
       "(0028, 0010) Rows                                US: 512\n",
       "(0028, 0011) Columns                             US: 512\n",
       "(0028, 0030) Pixel Spacing                       DS: [0.716797, 0.716797]\n",
       "(0028, 0100) Bits Allocated                      US: 16\n",
       "(0028, 0101) Bits Stored                         US: 16\n",
       "(0028, 0102) High Bit                            US: 15\n",
       "(0028, 0103) Pixel Representation                US: 1\n",
       "(0028, 0120) Pixel Padding Value                 SS: -2000\n",
       "(0028, 1050) Window Center                       DS: \"40.0\"\n",
       "(0028, 1051) Window Width                        DS: \"400.0\"\n",
       "(0028, 1052) Rescale Intercept                   DS: \"-1024.0\"\n",
       "(0028, 1053) Rescale Slope                       DS: \"1.0\"\n",
       "(0028, 1054) Rescale Type                        LO: 'HU'\n",
       "(0040, 0000) Group Length                        UL: 120\n",
       "(0040, 0244) Performed Procedure Step Start Date DA: '20090707'\n",
       "(0040, 0245) Performed Procedure Step Start Time TM: '092016'\n",
       "(0040, 0253) Performed Procedure Step ID         SH: 'PPS ID  30057'\n",
       "(0040, 0254) Performed Procedure Step Descriptio LO: 'ABDOMEN + PELVIS CT, I'\n",
       "(0040, 0275)  Request Attributes Sequence  1 item(s) ---- \n",
       "   (0040, 1001) Requested Procedure ID              SH: 'C097074946'\n",
       "   ---------\n",
       "(0043, 0000) Private Creator                     UL: 316\n",
       "(0043, 0010) Private tag data                    LO: 'GEMS_PARM_01'\n",
       "(0043, 1010) [Window value]                      US: 400\n",
       "(0043, 1012) [X-ray chain]                       SS: [99, 99, 99]\n",
       "(0043, 1016) [Number of overranges]              SS: 0\n",
       "(0043, 101e) [Delta Start Time [msec]]           DS: \"7.590244\"\n",
       "(0043, 101f) [Max overranges in a view]          SL: 0\n",
       "(0043, 1021) [Corrected after glow terms]        SS: 0\n",
       "(0043, 1025) [Reference channels]                SS: [0, 0, 0, 0, 0, 0]\n",
       "(0043, 1026) [No views ref chans blocked]        US: [0, 0, 0, 0]\n",
       "(0043, 1027) [Scan Pitch Ratio]                  SH: '0.984:1'\n",
       "(0043, 1028) [Unique image iden]                 OB: b'00'\n",
       "(0043, 102b) [Private Scan Options]              SS: [2, 0, 0, 0]\n",
       "(0043, 1031) [Recon Center Coordinates]          DS: [-7.700000, 0.000000]\n",
       "(0043, 1040) [Trigger on position]               FL: 81.14330291748047\n",
       "(0043, 1041) [Degree of rotation]                FL: 4970.94921875\n",
       "(0043, 1042) [DAS trigger source]                SL: 0\n",
       "(0043, 1043) [DAS fpa gain]                      SL: 0\n",
       "(0043, 1044) [DAS output source]                 SL: 0\n",
       "(0043, 1045) [DAS ad input]                      SL: 0\n",
       "(0043, 1046) [DAS cal mode]                      SL: 0\n",
       "(0043, 104d) [Start scan to X-ray on delay]      FL: 0.0\n",
       "(0043, 104e) [Duration of X-ray on]              FL: 8.285975456237793\n",
       "(0043, 1064) [Image Filter]                      CS: ''\n",
       "(0045, 0000) Private Creator                     UL: 316\n",
       "(0045, 0010) Private tag data                    LO: 'GEMS_HELIOS_01'\n",
       "(0045, 1001) [Number of Macro Rows in Detector]  SS: 64\n",
       "(0045, 1002) [Macro width at ISO Center]         FL: 0.625\n",
       "(0045, 1003) [DAS type]                          SS: 18\n",
       "(0045, 1004) [DAS gain]                          SS: 4\n",
       "(0045, 1006) [Table Direction]                   CS: 'OUT OF GANTRY'\n",
       "(0045, 1007) [Z smoothing Factor]                FL: 0.0\n",
       "(0045, 1008) [View Weighting Mode]               SS: 0\n",
       "(0045, 1009) [Sigma Row number]                  SS: 0\n",
       "(0045, 100a) [Minimum DAS value]                 FL: 0.0\n",
       "(0045, 100b) [Maximum Offset Value]              FL: 0.0\n",
       "(0045, 100c) [Number of Views shifted]           SS: 0\n",
       "(0045, 100d) [Z tracking Flag]                   SS: 0\n",
       "(0045, 100e) [Mean Z error]                      FL: 0.0\n",
       "(0045, 100f) [Z tracking Error]                  FL: 0.0\n",
       "(0045, 1010) [Start View 2A]                     SS: 0\n",
       "(0045, 1011) [Number of Views 2A]                SS: 0\n",
       "(0045, 1012) [Start View 1A]                     SS: 0\n",
       "(0045, 1013) [Sigma Mode]                        SS: 0\n",
       "(0045, 1014) [Number of Views 1A]                SS: 0\n",
       "(0045, 1015) [Start View 2B]                     SS: 0\n",
       "(0045, 1016) [Number Views 2B]                   SS: 0\n",
       "(0045, 1017) [Start View 1B]                     SS: 0\n",
       "(0045, 1018) [Number of Views 1B]                SS: 0\n",
       "(0045, 1021) [Iterbone Flag]                     SS: 0\n",
       "(0045, 1022) [Perisstaltic Flag]                 SS: 0\n",
       "(0045, 1032) [TemporalResolution]                FL: 0.6000000238418579\n",
       "(0045, 103b) [NoiseReductionImageFilterDesc]     LO: ''\n",
       "(0903, 0010) Private Creator                     LO: 'GEIIS PACS'\n",
       "(0903, 1010) [Reject Image Flag]                 US: 0\n",
       "(0903, 1011) [Significant Flag]                  US: 0\n",
       "(0903, 1012) [Confidential Flag]                 US: 0\n",
       "(0905, 0010) Private Creator                     LO: 'GEIIS'\n",
       "(0905, 1030) [Assigning Authority For Patient ID LO: '082S07:20061015:015516666:004504'\n",
       "(7fe0, 0010) Pixel Data                          OW: Array of 524288 elements"
      ]
     },
     "execution_count": 107,
     "metadata": {},
     "output_type": "execute_result"
    }
   ],
   "source": [
    "img3"
   ]
  },
  {
   "cell_type": "code",
   "execution_count": 108,
   "metadata": {},
   "outputs": [],
   "source": [
    "ps=img3.PixelSpacing\n",
    "st=img3.SliceThickness\n",
    "ax=ps[1]/ps[0]\n",
    "    "
   ]
  },
  {
   "cell_type": "code",
   "execution_count": 109,
   "metadata": {},
   "outputs": [
    {
     "name": "stdout",
     "output_type": "stream",
     "text": [
      "[0.716797, 0.716797] 0.716797 0.716797\n",
      "5.000000\n",
      "1.0\n"
     ]
    }
   ],
   "source": [
    "print(ps,ps[0],ps[1])\n",
    "print(st)\n",
    "print(ax)"
   ]
  },
  {
   "cell_type": "code",
   "execution_count": 110,
   "metadata": {},
   "outputs": [
    {
     "data": {
      "text/plain": [
       "(512, 512)"
      ]
     },
     "execution_count": 110,
     "metadata": {},
     "output_type": "execute_result"
    }
   ],
   "source": [
    "img3.pixel_array.shape"
   ]
  },
  {
   "cell_type": "code",
   "execution_count": 111,
   "metadata": {},
   "outputs": [
    {
     "data": {
      "text/plain": [
       "array([[0, 0, 0, ..., 0, 0, 0],\n",
       "       [0, 0, 0, ..., 0, 0, 0],\n",
       "       [0, 0, 0, ..., 0, 0, 0],\n",
       "       ...,\n",
       "       [0, 0, 0, ..., 0, 0, 0],\n",
       "       [0, 0, 0, ..., 0, 0, 0],\n",
       "       [0, 0, 0, ..., 0, 0, 0]], dtype=int16)"
      ]
     },
     "execution_count": 111,
     "metadata": {},
     "output_type": "execute_result"
    }
   ],
   "source": [
    "img3.pixel_array"
   ]
  },
  {
   "cell_type": "code",
   "execution_count": 112,
   "metadata": {},
   "outputs": [
    {
     "data": {
      "text/plain": [
       "<matplotlib.image.AxesImage at 0x1e52d134308>"
      ]
     },
     "execution_count": 112,
     "metadata": {},
     "output_type": "execute_result"
    },
    {
     "data": {
      "image/png": "[encoded data removed]",
      "text/plain": [
       "<Figure size 432x288 with 1 Axes>"
      ]
     },
     "metadata": {
      "needs_background": "light"
     },
     "output_type": "display_data"
    }
   ],
   "source": [
    "import matplotlib.pyplot as plt\n",
    "import pydicom\n",
    "from pydicom.data import get_testdata_files\n",
    "\n",
    "ds = pydicom.dcmread(path)\n",
    "\n",
    "plt.imshow(ds.pixel_array, cmap=plt.cm.bone)\n"
   ]
  },
  {
   "cell_type": "code",
   "execution_count": null,
   "metadata": {},
   "outputs": [],
   "source": []
  },
  {
   "cell_type": "code",
   "execution_count": null,
   "metadata": {},
   "outputs": [],
   "source": []
  },
  {
   "cell_type": "code",
   "execution_count": null,
   "metadata": {},
   "outputs": [],
   "source": []
  }
 ],
 "metadata": {
  "kernelspec": {
   "display_name": "Python 3",
   "language": "python",
   "name": "python3"
  },
  "language_info": {
   "codemirror_mode": {
    "name": "ipython",
    "version": 3
   },
   "file_extension": ".py",
   "mimetype": "text/x-python",
   "name": "python",
   "nbconvert_exporter": "python",
   "pygments_lexer": "ipython3",
   "version": "3.7.6"
  }
 },
 "nbformat": 4,
 "nbformat_minor": 4
}
